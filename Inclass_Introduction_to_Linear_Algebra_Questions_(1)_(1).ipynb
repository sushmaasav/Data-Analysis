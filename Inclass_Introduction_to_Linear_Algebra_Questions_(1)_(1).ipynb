{
  "nbformat": 4,
  "nbformat_minor": 0,
  "metadata": {
    "anaconda-cloud": {},
    "colab": {
      "name": "Inclass_Introduction_to_Linear_Algebra_Questions (1) (1).ipynb",
      "provenance": [],
      "collapsed_sections": [],
      "include_colab_link": true
    },
    "kernelspec": {
      "display_name": "Python 3",
      "language": "python",
      "name": "python3"
    },
    "language_info": {
      "codemirror_mode": {
        "name": "ipython",
        "version": 3
      },
      "file_extension": ".py",
      "mimetype": "text/x-python",
      "name": "python",
      "nbconvert_exporter": "python",
      "pygments_lexer": "ipython3",
      "version": "3.8.3"
    }
  },
  "cells": [
    {
      "cell_type": "markdown",
      "metadata": {
        "id": "view-in-github",
        "colab_type": "text"
      },
      "source": [
        "<a href=\"https://colab.research.google.com/github/sushmaasav/Data-Analysis/blob/Data-Analysis/Inclass_Introduction_to_Linear_Algebra_Questions_(1)_(1).ipynb\" target=\"_parent\"><img src=\"https://colab.research.google.com/assets/colab-badge.svg\" alt=\"Open In Colab\"/></a>"
      ]
    },
    {
      "cell_type": "code",
      "metadata": {
        "id": "iakMxQQ1ZZQK"
      },
      "source": [
        "import numpy as np\n",
        "import scipy.linalg as la\n",
        "\n"
      ],
      "execution_count": null,
      "outputs": []
    },
    {
      "cell_type": "markdown",
      "metadata": {
        "id": "4oIzWeCArwS3"
      },
      "source": [
        "### Creation of Vectors and Matrices"
      ]
    },
    {
      "cell_type": "markdown",
      "metadata": {
        "id": "vgzUew69ZZQR"
      },
      "source": [
        "1. Create a row vector of natural numbers of size 4."
      ]
    },
    {
      "cell_type": "code",
      "metadata": {
        "id": "GUNZEauKgNqY",
        "outputId": "9411edf4-c640-4984-ec56-3eaa56c86fb3"
      },
      "source": [
        "row_vector = np.array([1,2,3,4])\n",
        "row_vector"
      ],
      "execution_count": null,
      "outputs": [
        {
          "output_type": "execute_result",
          "data": {
            "text/plain": [
              "array([1, 2, 3, 4])"
            ]
          },
          "metadata": {
            "tags": []
          },
          "execution_count": 2
        }
      ]
    },
    {
      "cell_type": "markdown",
      "metadata": {
        "id": "KZIbNObwHAw1"
      },
      "source": [
        "Check the shape and type of vector.\n",
        "\n",
        "> Indented block\n",
        "\n"
      ]
    },
    {
      "cell_type": "code",
      "metadata": {
        "id": "NTtoj3GRgNqa",
        "outputId": "855329a9-a510-43e6-c854-b7100a461cec"
      },
      "source": [
        "row_vector.shape"
      ],
      "execution_count": null,
      "outputs": [
        {
          "output_type": "execute_result",
          "data": {
            "text/plain": [
              "(4,)"
            ]
          },
          "metadata": {
            "tags": []
          },
          "execution_count": 6
        }
      ]
    },
    {
      "cell_type": "code",
      "metadata": {
        "id": "bZfbmH3NgNqb",
        "outputId": "c5f68934-4ac8-432b-e5b1-d3b34ae9cdb7"
      },
      "source": [
        "row_vector.dtype"
      ],
      "execution_count": null,
      "outputs": [
        {
          "output_type": "execute_result",
          "data": {
            "text/plain": [
              "dtype('int32')"
            ]
          },
          "metadata": {
            "tags": []
          },
          "execution_count": 7
        }
      ]
    },
    {
      "cell_type": "markdown",
      "metadata": {
        "id": "vYcnCH-6KXcW"
      },
      "source": [
        "2. Create a 2 x 2 matrix of all zeros, all ones, all with a value of 4 and all with random values."
      ]
    },
    {
      "cell_type": "code",
      "metadata": {
        "id": "BEhFIOpagNqc",
        "outputId": "affc4ac7-25e5-4ddc-b7c1-90daba9c557d"
      },
      "source": [
        "zero_matrix = np.zeros((2,2))\n",
        "zero_matrix"
      ],
      "execution_count": null,
      "outputs": [
        {
          "output_type": "execute_result",
          "data": {
            "text/plain": [
              "array([[0., 0.],\n",
              "       [0., 0.]])"
            ]
          },
          "metadata": {
            "tags": []
          },
          "execution_count": 10
        }
      ]
    },
    {
      "cell_type": "code",
      "metadata": {
        "id": "lZsoFSJLgNqc",
        "outputId": "753c3713-a187-46c2-a164-8ad284b873d4"
      },
      "source": [
        "ones_matrix = np.ones((2,2))\n",
        "ones_matrix"
      ],
      "execution_count": null,
      "outputs": [
        {
          "output_type": "execute_result",
          "data": {
            "text/plain": [
              "array([[1., 1.],\n",
              "       [1., 1.]])"
            ]
          },
          "metadata": {
            "tags": []
          },
          "execution_count": 11
        }
      ]
    },
    {
      "cell_type": "code",
      "metadata": {
        "id": "ihL_K6FogNqd",
        "outputId": "4f34d8ae-cc94-45fa-f3cb-4789bcb66ec2"
      },
      "source": [
        "full_matrix = np.full((2,2),4)\n",
        "full_matrix"
      ],
      "execution_count": null,
      "outputs": [
        {
          "output_type": "execute_result",
          "data": {
            "text/plain": [
              "array([[4, 4],\n",
              "       [4, 4]])"
            ]
          },
          "metadata": {
            "tags": []
          },
          "execution_count": 12
        }
      ]
    },
    {
      "cell_type": "code",
      "metadata": {
        "id": "QftNfZWdgNqd",
        "outputId": "7b4d2c35-e9a2-4d84-a76f-0fb21dad001c"
      },
      "source": [
        "rand_matrix = np.random.randint(1,10,(2,2))\n",
        "rand_matrix"
      ],
      "execution_count": null,
      "outputs": [
        {
          "output_type": "execute_result",
          "data": {
            "text/plain": [
              "array([[7, 2],\n",
              "       [4, 6]])"
            ]
          },
          "metadata": {
            "tags": []
          },
          "execution_count": 19
        }
      ]
    },
    {
      "cell_type": "markdown",
      "metadata": {
        "id": "-G6Iz7NcZZQ-"
      },
      "source": [
        "# Vector and Matrix Operations \n"
      ]
    },
    {
      "cell_type": "markdown",
      "metadata": {
        "id": "_XuNsCzL8yl6"
      },
      "source": [
        "4. Find the magnitude/ L1 and L2 norm of the vector [4,6] and state which has \n",
        "\n",
        "*   List item\n",
        "*   List item\n",
        "\n",
        "has a highest value.\n"
      ]
    },
    {
      "cell_type": "code",
      "metadata": {
        "id": "TCXOJewbgNqe",
        "outputId": "f6dd0baa-cef9-4f1d-9c53-2e65b5d962dc"
      },
      "source": [
        "vector = np.array([4,6])\n",
        "vector"
      ],
      "execution_count": null,
      "outputs": [
        {
          "output_type": "execute_result",
          "data": {
            "text/plain": [
              "array([4, 6])"
            ]
          },
          "metadata": {
            "tags": []
          },
          "execution_count": 20
        }
      ]
    },
    {
      "cell_type": "code",
      "metadata": {
        "id": "D34JP5lpgNqf",
        "outputId": "71e8bc7b-5295-46ee-f6d5-d7576ac02d18"
      },
      "source": [
        "L1 = np.linalg.norm(vector,ord=1)    #L1 norm\n",
        "L2 = np.linalg.norm(vector)        #L2 norm\n",
        "\n",
        "print('L1 Norm =',L1) \n",
        "print('L2 Norm =',L2)"
      ],
      "execution_count": null,
      "outputs": [
        {
          "output_type": "stream",
          "text": [
            "L1 Norm = 10.0\n",
            "L2 Norm = 7.211102550927978\n"
          ],
          "name": "stdout"
        }
      ]
    },
    {
      "cell_type": "code",
      "metadata": {
        "id": "pym0USw8gNqf"
      },
      "source": [
        "def high_norm(L1,L2):\n",
        "    if L1>L2:\n",
        "        print(\"L1 norm has highest value\") \n",
        "    else:\n",
        "        print(\"L2 norm has highest value\")"
      ],
      "execution_count": null,
      "outputs": []
    },
    {
      "cell_type": "code",
      "metadata": {
        "id": "8x7CKRSKgNqg",
        "outputId": "12fa5f89-c601-4b55-a1de-714f540f5117"
      },
      "source": [
        "high_norm(L1,L2)"
      ],
      "execution_count": null,
      "outputs": [
        {
          "output_type": "stream",
          "text": [
            "L1 norm has highest value\n"
          ],
          "name": "stdout"
        }
      ]
    },
    {
      "cell_type": "markdown",
      "metadata": {
        "id": "1rcWih_Qhiv4"
      },
      "source": [
        "## Vector and Matrix Arithmetic \n",
        "\n",
        "5. Perform addition, subtraction, multiplication and division of two matrices of size (3 x 3)"
      ]
    },
    {
      "cell_type": "code",
      "metadata": {
        "id": "td93wVYNgNqg",
        "outputId": "be5efec0-36eb-4f61-84bc-142c35ff12b3"
      },
      "source": [
        "matrix_1 = np.random.randint(1,10,(3,3))\n",
        "matrix_2 = np.random.randint(11,20,(3,3))\n",
        "print(matrix_1)\n",
        "print(matrix_2)"
      ],
      "execution_count": null,
      "outputs": [
        {
          "output_type": "stream",
          "text": [
            "[[6 1 3]\n",
            " [6 6 7]\n",
            " [1 2 8]]\n",
            "[[16 19 12]\n",
            " [12 15 16]\n",
            " [11 17 12]]\n"
          ],
          "name": "stdout"
        }
      ]
    },
    {
      "cell_type": "code",
      "metadata": {
        "id": "A7XMbQPAgNqh",
        "outputId": "1093e353-6e71-497b-8971-530e0a9d63e0"
      },
      "source": [
        "print('Addition of 2 matrices:\\n',np.add(matrix_1,matrix_2))\n",
        "print('Subtraction of 2 matrices:\\n',np.subtract(matrix_1,matrix_2))\n",
        "print('Element wise Multiplication of 2 matrices:\\n',np.multiply(matrix_1,matrix_2))\n",
        "print('Division of 2 matrices:\\n',np.divide(matrix_1,matrix_2))"
      ],
      "execution_count": null,
      "outputs": [
        {
          "output_type": "stream",
          "text": [
            "Addition of 2 matrices:\n",
            " [[22 20 15]\n",
            " [18 21 23]\n",
            " [12 19 20]]\n",
            "Subtraction of 2 matrices:\n",
            " [[-10 -18  -9]\n",
            " [ -6  -9  -9]\n",
            " [-10 -15  -4]]\n",
            "Element wise Multiplication of 2 matrices:\n",
            " [[ 96  19  36]\n",
            " [ 72  90 112]\n",
            " [ 11  34  96]]\n",
            "Division of 2 matrices:\n",
            " [[0.375      0.05263158 0.25      ]\n",
            " [0.5        0.4        0.4375    ]\n",
            " [0.09090909 0.11764706 0.66666667]]\n"
          ],
          "name": "stdout"
        }
      ]
    },
    {
      "cell_type": "markdown",
      "metadata": {
        "id": "7594kF6JhheC"
      },
      "source": [
        "## Dot product\n",
        "\n",
        "6. Find the dot product of the matrices created above."
      ]
    },
    {
      "cell_type": "code",
      "metadata": {
        "id": "jC1NBcZVgNqh",
        "outputId": "052d20ab-6f8e-4abf-912d-983f1460a099"
      },
      "source": [
        "print('Dot product of 2 matrices:\\n',np.dot(matrix_1,matrix_2))"
      ],
      "execution_count": null,
      "outputs": [
        {
          "output_type": "stream",
          "text": [
            "Dot product of 2 matrices:\n",
            " [[141 180 124]\n",
            " [245 323 252]\n",
            " [128 185 140]]\n"
          ],
          "name": "stdout"
        }
      ]
    },
    {
      "cell_type": "markdown",
      "metadata": {
        "id": "u_PcuU0lFJfG"
      },
      "source": [
        "### Scalar and Vector Projections\n",
        "7. Find the scalar and vector projections of the vector  u = 8i + 6j on vector v = i - 7j\n"
      ]
    },
    {
      "cell_type": "code",
      "metadata": {
        "id": "xPi_KyjWgNqi",
        "outputId": "8e9e430e-7723-4d37-ccd8-2c9be29a1eee"
      },
      "source": [
        "u = np.array([8,6])   # vector u \n",
        "v = np.array([1,-7])   # vector v\n",
        "\n",
        "v_norm = np.sqrt(sum(v**2))\n",
        "\n",
        "scalar_projection = np.dot(u,v)/v_norm\n",
        "print(\"Scalar Projection of vector u on v is\",scalar_projection)\n",
        "\n",
        "vector_projection = (np.dot(u,v)/v_norm**2)*v\n",
        "print(\"Vector Projection of vector u on v is\",vector_projection)"
      ],
      "execution_count": null,
      "outputs": [
        {
          "output_type": "stream",
          "text": [
            "Scalar Projection of vector u on v is -4.808326112068523\n",
            "Vector Projection of vector u on v is [-0.68  4.76]\n"
          ],
          "name": "stdout"
        }
      ]
    },
    {
      "cell_type": "markdown",
      "metadata": {
        "id": "Lk_VxyBbMabM"
      },
      "source": [
        "### Transpose of a matrix\n",
        "\n",
        "9. Find the transpose of the matrix A \n",
        "\n",
        "      \n",
        "      [[ 2,  3,  3,  8],\n",
        "       [ 6,  7,  7,  8],\n",
        "       [1, 2, 3, 4]]"
      ]
    },
    {
      "cell_type": "code",
      "metadata": {
        "id": "VcczMPyZgNqj",
        "outputId": "09af1089-4a55-4c0a-e279-52143c4c4238"
      },
      "source": [
        "A = np.array([[ 2,  3,  3,  8],\n",
        "   [ 6,  7,  7,  8],\n",
        "   [1, 2, 3, 4]])\n",
        "AT = np.transpose(A)\n",
        "print(A)\n",
        "print(AT)"
      ],
      "execution_count": null,
      "outputs": [
        {
          "output_type": "stream",
          "text": [
            "[[2 3 3 8]\n",
            " [6 7 7 8]\n",
            " [1 2 3 4]]\n",
            "[[2 6 1]\n",
            " [3 7 2]\n",
            " [3 7 3]\n",
            " [8 8 4]]\n"
          ],
          "name": "stdout"
        }
      ]
    },
    {
      "cell_type": "markdown",
      "metadata": {
        "id": "eArOydbNls78"
      },
      "source": [
        "### Identity Matrix"
      ]
    },
    {
      "cell_type": "code",
      "metadata": {
        "colab": {
          "base_uri": "https://localhost:8080/",
          "height": 70
        },
        "id": "u4xFKFSNZZRh",
        "outputId": "50b72de3-dfe9-43ce-b58f-b52c881bc42d"
      },
      "source": [
        "# identity matrix \n",
        "eye3 = np.eye(3)\n",
        "eye3"
      ],
      "execution_count": null,
      "outputs": [
        {
          "output_type": "execute_result",
          "data": {
            "text/plain": [
              "array([[1., 0., 0.],\n",
              "       [0., 1., 0.],\n",
              "       [0., 0., 1.]])"
            ]
          },
          "metadata": {
            "tags": []
          },
          "execution_count": 56
        }
      ]
    },
    {
      "cell_type": "markdown",
      "metadata": {
        "id": "idT7nDSTl4B1"
      },
      "source": [
        "### Linear Independence\n",
        "Check for linear combination of vectors. If it zero, then the set of vectors is linearly independent.\n",
        "\n",
        "The no. of linearly independent columns will determine the no. of solutions.\n",
        "\n",
        "Direction of two linearly dependent vectors is the same.\n",
        "\n",
        "Determine whether the vectors are linearly independent of each other to see if the vectors form a basis,\n",
        "\n",
        "or to determine how many independent equations there are, \n",
        "\n",
        "or to determine how many independent reactions there are.\n",
        "\n",
        "The set S = {v1, v2, v3} of vectors in R3 is linearly independent if the only solution of\n",
        "\n",
        "c1v1 + c2v2 + c3v3 = 0 \n",
        "is c1, c2, c3 = 0\n",
        "\n"
      ]
    },
    {
      "cell_type": "code",
      "metadata": {
        "id": "RPvay0XK7Mpy"
      },
      "source": [
        ""
      ],
      "execution_count": null,
      "outputs": []
    },
    {
      "cell_type": "markdown",
      "metadata": {
        "id": "ScrG-NpCwL-5"
      },
      "source": [
        "## Types of Matrices"
      ]
    },
    {
      "cell_type": "code",
      "metadata": {
        "colab": {
          "base_uri": "https://localhost:8080/",
          "height": 52
        },
        "id": "yKzUEUbbwL-5",
        "outputId": "6668f19b-cbb6-49db-b32a-bb85348e1e8a"
      },
      "source": [
        "from numpy import array\n",
        "# list of data\n",
        "data = [[1, 2],[3, 4],[5, 6]]\n",
        "# array of data\n",
        "data = array(data)\n",
        "print('Rows: %d' % data.shape[0])\n",
        "print('Cols: %d' % data.shape[1])"
      ],
      "execution_count": null,
      "outputs": [
        {
          "output_type": "stream",
          "text": [
            "Rows: 3\n",
            "Cols: 2\n"
          ],
          "name": "stdout"
        }
      ]
    },
    {
      "cell_type": "code",
      "metadata": {
        "colab": {
          "base_uri": "https://localhost:8080/",
          "height": 176
        },
        "id": "rgL_DG0TwL-9",
        "outputId": "152c8f3c-c234-472f-d30d-526db4ae15b1"
      },
      "source": [
        "# triangular matrices\n",
        "from numpy import array\n",
        "from numpy import tril\n",
        "from numpy import triu\n",
        "# define square matrix\n",
        "M = array([\n",
        "[11, 12, 13],\n",
        "[14, 15, 16],\n",
        "[17, 18, 19]])\n",
        "\n",
        "\n",
        "MU = np.triu(M)\n",
        "print(MU)\n",
        "\n",
        "ML = np.tril(M)\n",
        "print(ML)"
      ],
      "execution_count": null,
      "outputs": [
        {
          "output_type": "stream",
          "text": [
            "[[11 12 13]\n",
            " [ 0 15 16]\n",
            " [ 0  0 19]]\n",
            "[[11  0  0]\n",
            " [14 15  0]\n",
            " [17 18 19]]\n"
          ],
          "name": "stdout"
        }
      ]
    },
    {
      "cell_type": "code",
      "metadata": {
        "colab": {
          "base_uri": "https://localhost:8080/",
          "height": 141
        },
        "id": "thanBRBVwL_A",
        "outputId": "8a3235cd-e9f8-49cf-d9c9-841f6add00e1"
      },
      "source": [
        "# diagonal matrix\n",
        "from numpy import array\n",
        "from numpy import diag\n",
        "# define square matrix\n",
        "M = array([\n",
        "[11, 12, 13],\n",
        "[14, 15, 16],\n",
        "[17, 18, 19]])\n",
        "print(M)\n",
        "\n"
      ],
      "execution_count": null,
      "outputs": [
        {
          "output_type": "stream",
          "text": [
            "[[11 12 13]\n",
            " [14 15 16]\n",
            " [17 18 19]]\n"
          ],
          "name": "stdout"
        }
      ]
    },
    {
      "cell_type": "markdown",
      "metadata": {
        "id": "Q0oa-HM7p_Hn"
      },
      "source": [
        "Create Identity MAtrix"
      ]
    },
    {
      "cell_type": "code",
      "metadata": {
        "id": "Rtuwo6PV7TVv"
      },
      "source": [
        "eye = np.eye(5)"
      ],
      "execution_count": null,
      "outputs": []
    },
    {
      "cell_type": "code",
      "metadata": {
        "id": "6XTHVaBDgNqm",
        "outputId": "2080377c-17cc-42e6-8cbc-61e7b40c2703"
      },
      "source": [
        "eye"
      ],
      "execution_count": null,
      "outputs": [
        {
          "output_type": "execute_result",
          "data": {
            "text/plain": [
              "array([[1., 0., 0., 0., 0.],\n",
              "       [0., 1., 0., 0., 0.],\n",
              "       [0., 0., 1., 0., 0.],\n",
              "       [0., 0., 0., 1., 0.],\n",
              "       [0., 0., 0., 0., 1.]])"
            ]
          },
          "metadata": {
            "tags": []
          },
          "execution_count": 65
        }
      ]
    },
    {
      "cell_type": "code",
      "metadata": {
        "id": "V-J65rcsgNqn"
      },
      "source": [
        ""
      ],
      "execution_count": null,
      "outputs": []
    }
  ]
}